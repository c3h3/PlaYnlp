{
 "metadata": {
  "name": "\u65b0\u8a5e\u6316\u6398\uff3f2"
 },
 "nbformat": 3,
 "nbformat_minor": 0,
 "worksheets": [
  {
   "cells": [
    {
     "cell_type": "code",
     "collapsed": false,
     "input": "import PlaYnlp.tokenizer as tkr \nimport PlaYnlp.vectorizer as vcr\nfrom PlaYnlp import dataio\n\nfrom PlaYnlp.sparse import L0_norm_col_summarizer as L0_col_sum\nfrom PlaYnlp.sparse import L1_norm_col_summarizer as L1_col_sum\nimport numpy as np\nimport scipy as sp\n",
     "language": "python",
     "metadata": {},
     "outputs": [],
     "prompt_number": 1
    },
    {
     "cell_type": "code",
     "collapsed": false,
     "input": "import pandas as pd \ntest_text_df = pd.DataFrame([u\"\u4eca\u5929\u5929\u6c23\u5f88\u597d\",u\"\u4eca\u5929\u5929\u6c23\u5f88\u721b\",u\"\u6211\u6068\u5b83\",u\"\u5b83\u6068\u6211\",u\"\u6211\u611b\u5b83\",u\"\u5b83\u611b\u6211\",u\"\u4eca\u5929\u5f88\u8870\",u\"\u65e5\u5b50\u4e00\u5929\u4e00\u5929\u904e\",u\"\u5929\u5929\u5237\u7259\u6d17\u81c9\"])\ntest_text_df.columns = [\"text\"]\ntest_text_df = test_text_df.reset_index()\ntest_text_df[\"idx\"] = map(lambda xx :u\"%05d\" % xx,test_text_df[\"index\"])\ntest_text_df[\"r1\"] = np.random.randn(test_text_df.shape[0])\ntest_text_df[\"r2\"] = np.random.randn(test_text_df.shape[0])\ntest_text_df\n",
     "language": "python",
     "metadata": {},
     "outputs": [
      {
       "html": "<div style=\"max-height:1000px;max-width:1500px;overflow:auto;\">\n<table border=\"1\" class=\"dataframe\">\n  <thead>\n    <tr style=\"text-align: right;\">\n      <th></th>\n      <th>index</th>\n      <th>text</th>\n      <th>idx</th>\n      <th>r1</th>\n      <th>r2</th>\n    </tr>\n  </thead>\n  <tbody>\n    <tr>\n      <th>0</th>\n      <td> 0</td>\n      <td>  \u4eca\u5929\u5929\u6c23\u5f88\u597d</td>\n      <td> 00000</td>\n      <td> 1.113091</td>\n      <td> 0.385252</td>\n    </tr>\n    <tr>\n      <th>1</th>\n      <td> 1</td>\n      <td>  \u4eca\u5929\u5929\u6c23\u5f88\u721b</td>\n      <td> 00001</td>\n      <td>-0.625250</td>\n      <td>-0.162953</td>\n    </tr>\n    <tr>\n      <th>2</th>\n      <td> 2</td>\n      <td>     \u6211\u6068\u5b83</td>\n      <td> 00002</td>\n      <td>-0.466021</td>\n      <td> 0.131717</td>\n    </tr>\n    <tr>\n      <th>3</th>\n      <td> 3</td>\n      <td>     \u5b83\u6068\u6211</td>\n      <td> 00003</td>\n      <td>-2.561237</td>\n      <td>-1.493671</td>\n    </tr>\n    <tr>\n      <th>4</th>\n      <td> 4</td>\n      <td>     \u6211\u611b\u5b83</td>\n      <td> 00004</td>\n      <td>-1.669795</td>\n      <td>-1.205870</td>\n    </tr>\n    <tr>\n      <th>5</th>\n      <td> 5</td>\n      <td>     \u5b83\u611b\u6211</td>\n      <td> 00005</td>\n      <td>-0.815189</td>\n      <td>-1.924552</td>\n    </tr>\n    <tr>\n      <th>6</th>\n      <td> 6</td>\n      <td>    \u4eca\u5929\u5f88\u8870</td>\n      <td> 00006</td>\n      <td>-0.225764</td>\n      <td>-0.747803</td>\n    </tr>\n    <tr>\n      <th>7</th>\n      <td> 7</td>\n      <td> \u65e5\u5b50\u4e00\u5929\u4e00\u5929\u904e</td>\n      <td> 00007</td>\n      <td> 0.126234</td>\n      <td>-0.933657</td>\n    </tr>\n    <tr>\n      <th>8</th>\n      <td> 8</td>\n      <td>  \u5929\u5929\u5237\u7259\u6d17\u81c9</td>\n      <td> 00008</td>\n      <td> 2.178080</td>\n      <td>-0.359663</td>\n    </tr>\n  </tbody>\n</table>\n<p>9 rows \u00d7 5 columns</p>\n</div>",
       "metadata": {},
       "output_type": "pyout",
       "prompt_number": 2,
       "text": "   index     text    idx        r1        r2\n0      0   \u4eca\u5929\u5929\u6c23\u5f88\u597d  00000  1.113091  0.385252\n1      1   \u4eca\u5929\u5929\u6c23\u5f88\u721b  00001 -0.625250 -0.162953\n2      2      \u6211\u6068\u5b83  00002 -0.466021  0.131717\n3      3      \u5b83\u6068\u6211  00003 -2.561237 -1.493671\n4      4      \u6211\u611b\u5b83  00004 -1.669795 -1.205870\n5      5      \u5b83\u611b\u6211  00005 -0.815189 -1.924552\n6      6     \u4eca\u5929\u5f88\u8870  00006 -0.225764 -0.747803\n7      7  \u65e5\u5b50\u4e00\u5929\u4e00\u5929\u904e  00007  0.126234 -0.933657\n8      8   \u5929\u5929\u5237\u7259\u6d17\u81c9  00008  2.178080 -0.359663\n\n[9 rows x 5 columns]"
      }
     ],
     "prompt_number": 2
    },
    {
     "cell_type": "code",
     "collapsed": false,
     "input": "test_text_df[\"text\"].values\n",
     "language": "python",
     "metadata": {},
     "outputs": [
      {
       "metadata": {},
       "output_type": "pyout",
       "prompt_number": 3,
       "text": "array([u'\\u4eca\\u5929\\u5929\\u6c23\\u5f88\\u597d',\n       u'\\u4eca\\u5929\\u5929\\u6c23\\u5f88\\u721b', u'\\u6211\\u6068\\u5b83',\n       u'\\u5b83\\u6068\\u6211', u'\\u6211\\u611b\\u5b83', u'\\u5b83\\u611b\\u6211',\n       u'\\u4eca\\u5929\\u5f88\\u8870',\n       u'\\u65e5\\u5b50\\u4e00\\u5929\\u4e00\\u5929\\u904e',\n       u'\\u5929\\u5929\\u5237\\u7259\\u6d17\\u81c9'], dtype=object)"
      }
     ],
     "prompt_number": 3
    },
    {
     "cell_type": "code",
     "collapsed": false,
     "input": "from PlaYdata.core.base import ValuesMatrix\nfrom PlaYdata.core.base import tools\nfrom PlaYdata.core.merge import MultiIndexedDataMatrixMerger, IndexedDataMatrixMerger\n",
     "language": "python",
     "metadata": {},
     "outputs": [],
     "prompt_number": 4
    },
    {
     "cell_type": "code",
     "collapsed": false,
     "input": "text_val_matrix = map(lambda xx:ValuesMatrix(list(tools.ngram(xx,[1,2,3,4])),force2d=\"as_col\"),test_text_df[\"text\"].values)\n",
     "language": "python",
     "metadata": {},
     "outputs": [],
     "prompt_number": 5
    },
    {
     "cell_type": "code",
     "collapsed": false,
     "input": "text_idxed_data_matrix = map(lambda xx:xx.build_index_data_matrix(), text_val_matrix)\n",
     "language": "python",
     "metadata": {},
     "outputs": [],
     "prompt_number": 6
    },
    {
     "cell_type": "code",
     "collapsed": false,
     "input": "idx_merger = IndexedDataMatrixMerger(*text_idxed_data_matrix)\nngram_mat = idx_merger.rbind()\n",
     "language": "python",
     "metadata": {},
     "outputs": [],
     "prompt_number": 7
    },
    {
     "cell_type": "code",
     "collapsed": false,
     "input": "ngram_mat.states_matrix\n",
     "language": "python",
     "metadata": {},
     "outputs": [
      {
       "metadata": {},
       "output_type": "pyout",
       "prompt_number": 8,
       "text": "StatesMatrix([[u'\\u4e00', u'\\u4e00\\u5929', u'\\u4e00\\u5929\\u4e00',\n        u'\\u4e00\\u5929\\u4e00\\u5929', u'\\u4e00\\u5929\\u904e', u'\\u4eca',\n        u'\\u4eca\\u5929', u'\\u4eca\\u5929\\u5929',\n        u'\\u4eca\\u5929\\u5929\\u6c23', u'\\u4eca\\u5929\\u5f88',\n        u'\\u4eca\\u5929\\u5f88\\u8870', u'\\u5237', u'\\u5237\\u7259',\n        u'\\u5237\\u7259\\u6d17', u'\\u5237\\u7259\\u6d17\\u81c9', u'\\u5929',\n        u'\\u5929\\u4e00', u'\\u5929\\u4e00\\u5929',\n        u'\\u5929\\u4e00\\u5929\\u904e', u'\\u5929\\u5237',\n        u'\\u5929\\u5237\\u7259', u'\\u5929\\u5237\\u7259\\u6d17',\n        u'\\u5929\\u5929', u'\\u5929\\u5929\\u5237',\n        u'\\u5929\\u5929\\u5237\\u7259', u'\\u5929\\u5929\\u6c23',\n        u'\\u5929\\u5929\\u6c23\\u5f88', u'\\u5929\\u5f88',\n        u'\\u5929\\u5f88\\u8870', u'\\u5929\\u6c23', u'\\u5929\\u6c23\\u5f88',\n        u'\\u5929\\u6c23\\u5f88\\u597d', u'\\u5929\\u6c23\\u5f88\\u721b',\n        u'\\u5929\\u904e', u'\\u597d', u'\\u5b50', u'\\u5b50\\u4e00',\n        u'\\u5b50\\u4e00\\u5929', u'\\u5b50\\u4e00\\u5929\\u4e00', u'\\u5b83',\n        u'\\u5b83\\u6068', u'\\u5b83\\u6068\\u6211', u'\\u5b83\\u611b',\n        u'\\u5b83\\u611b\\u6211', u'\\u5f88', u'\\u5f88\\u597d', u'\\u5f88\\u721b',\n        u'\\u5f88\\u8870', u'\\u6068', u'\\u6068\\u5b83', u'\\u6068\\u6211',\n        u'\\u611b', u'\\u611b\\u5b83', u'\\u611b\\u6211', u'\\u6211',\n        u'\\u6211\\u6068', u'\\u6211\\u6068\\u5b83', u'\\u6211\\u611b',\n        u'\\u6211\\u611b\\u5b83', u'\\u65e5', u'\\u65e5\\u5b50',\n        u'\\u65e5\\u5b50\\u4e00', u'\\u65e5\\u5b50\\u4e00\\u5929', u'\\u6c23',\n        u'\\u6c23\\u5f88', u'\\u6c23\\u5f88\\u597d', u'\\u6c23\\u5f88\\u721b',\n        u'\\u6d17', u'\\u6d17\\u81c9', u'\\u721b', u'\\u7259', u'\\u7259\\u6d17',\n        u'\\u7259\\u6d17\\u81c9', u'\\u81c9', u'\\u8870', u'\\u904e']], \n      dtype='<U4')"
      }
     ],
     "prompt_number": 8
    },
    {
     "cell_type": "code",
     "collapsed": false,
     "input": "print ngram_mat.index_matrix.shape\nngram_mat.index_matrix\n",
     "language": "python",
     "metadata": {},
     "outputs": [
      {
       "output_type": "stream",
       "stream": "stdout",
       "text": "(110, 1)\n"
      },
      {
       "metadata": {},
       "output_type": "pyout",
       "prompt_number": 9,
       "text": "IndexMatrix([[ 5],\n       [15],\n       [15],\n       [63],\n       [44],\n       [34],\n       [ 6],\n       [22],\n       [29],\n       [64],\n       [45],\n       [ 7],\n       [25],\n       [30],\n       [65],\n       [ 8],\n       [26],\n       [31],\n       [ 5],\n       [15],\n       [15],\n       [63],\n       [44],\n       [69],\n       [ 6],\n       [22],\n       [29],\n       [64],\n       [46],\n       [ 7],\n       [25],\n       [30],\n       [66],\n       [ 8],\n       [26],\n       [32],\n       [54],\n       [48],\n       [39],\n       [55],\n       [49],\n       [56],\n       [39],\n       [48],\n       [54],\n       [40],\n       [50],\n       [41],\n       [54],\n       [51],\n       [39],\n       [57],\n       [52],\n       [58],\n       [39],\n       [51],\n       [54],\n       [42],\n       [53],\n       [43],\n       [ 5],\n       [15],\n       [44],\n       [74],\n       [ 6],\n       [27],\n       [47],\n       [ 9],\n       [28],\n       [10],\n       [59],\n       [35],\n       [ 0],\n       [15],\n       [ 0],\n       [15],\n       [75],\n       [60],\n       [36],\n       [ 1],\n       [16],\n       [ 1],\n       [33],\n       [61],\n       [37],\n       [ 2],\n       [17],\n       [ 4],\n       [62],\n       [38],\n       [ 3],\n       [18],\n       [15],\n       [15],\n       [11],\n       [70],\n       [67],\n       [73],\n       [22],\n       [19],\n       [12],\n       [71],\n       [68],\n       [23],\n       [20],\n       [13],\n       [72],\n       [24],\n       [21],\n       [14]])"
      }
     ],
     "prompt_number": 9
    },
    {
     "cell_type": "code",
     "collapsed": false,
     "input": "ss, ii = ngram_mat.index_matrix.build_row_struct_index()\n",
     "language": "python",
     "metadata": {},
     "outputs": [],
     "prompt_number": 10
    },
    {
     "cell_type": "code",
     "collapsed": false,
     "input": "ss,ii\n",
     "language": "python",
     "metadata": {},
     "outputs": [
      {
       "metadata": {},
       "output_type": "pyout",
       "prompt_number": 11,
       "text": "(StatesMatrix([[ 0],\n       [ 1],\n       [ 2],\n       [ 3],\n       [ 4],\n       [ 5],\n       [ 6],\n       [ 7],\n       [ 8],\n       [ 9],\n       [10],\n       [11],\n       [12],\n       [13],\n       [14],\n       [15],\n       [16],\n       [17],\n       [18],\n       [19],\n       [20],\n       [21],\n       [22],\n       [23],\n       [24],\n       [25],\n       [26],\n       [27],\n       [28],\n       [29],\n       [30],\n       [31],\n       [32],\n       [33],\n       [34],\n       [35],\n       [36],\n       [37],\n       [38],\n       [39],\n       [40],\n       [41],\n       [42],\n       [43],\n       [44],\n       [45],\n       [46],\n       [47],\n       [48],\n       [49],\n       [50],\n       [51],\n       [52],\n       [53],\n       [54],\n       [55],\n       [56],\n       [57],\n       [58],\n       [59],\n       [60],\n       [61],\n       [62],\n       [63],\n       [64],\n       [65],\n       [66],\n       [67],\n       [68],\n       [69],\n       [70],\n       [71],\n       [72],\n       [73],\n       [74],\n       [75]]),\n IndexMatrix([[ 5, 15, 15, 63, 44, 34,  6, 22, 29, 64, 45,  7, 25, 30, 65,  8, 26,\n        31,  5, 15, 15, 63, 44, 69,  6, 22, 29, 64, 46,  7, 25, 30, 66,  8,\n        26, 32, 54, 48, 39, 55, 49, 56, 39, 48, 54, 40, 50, 41, 54, 51, 39,\n        57, 52, 58, 39, 51, 54, 42, 53, 43,  5, 15, 44, 74,  6, 27, 47,  9,\n        28, 10, 59, 35,  0, 15,  0, 15, 75, 60, 36,  1, 16,  1, 33, 61, 37,\n         2, 17,  4, 62, 38,  3, 18, 15, 15, 11, 70, 67, 73, 22, 19, 12, 71,\n        68, 23, 20, 13, 72, 24, 21, 14]]))"
      }
     ],
     "prompt_number": 11
    },
    {
     "cell_type": "code",
     "collapsed": false,
     "input": "import numpy as np\nimport scipy.sparse as sparse\nfrom PlaYnlp.sparse import SparseDataFrame\nfrom PlaYnlp.sparse import L1_norm_col_summarizer, L0_norm_col_summarizer\n",
     "language": "python",
     "metadata": {},
     "outputs": [],
     "prompt_number": 12
    },
    {
     "cell_type": "code",
     "collapsed": false,
     "input": "col = np.arange(ii._ncol)\ndata = np.ones(ii._as_1d_array.shape)\nrow = ii._as_1d_array\n",
     "language": "python",
     "metadata": {},
     "outputs": [],
     "prompt_number": 14
    },
    {
     "cell_type": "code",
     "collapsed": false,
     "input": "states_sdf = SparseDataFrame(smatrix=sparse.coo_matrix((data,(row,col))).T,summarizer=L1_norm_col_summarizer)\n",
     "language": "python",
     "metadata": {},
     "outputs": [],
     "prompt_number": 15
    },
    {
     "cell_type": "code",
     "collapsed": false,
     "input": "states_sdf = SparseDataFrame(smatrix=sparse.coo_matrix((data,(row,col))).T,summarizer=L1_norm_col_summarizer)\n",
     "language": "python",
     "metadata": {},
     "outputs": [],
     "prompt_number": 16
    },
    {
     "cell_type": "code",
     "collapsed": false,
     "input": "states_sdf.summary._data\n",
     "language": "python",
     "metadata": {},
     "outputs": [
      {
       "metadata": {},
       "output_type": "pyout",
       "prompt_number": 17,
       "text": "array([ 2.,  2.,  1.,  1.,  1.,  3.,  3.,  2.,  2.,  1.,  1.,  1.,  1.,\n        1.,  1.,  9.,  1.,  1.,  1.,  1.,  1.,  1.,  3.,  1.,  1.,  2.,\n        2.,  1.,  1.,  2.,  2.,  1.,  1.,  1.,  1.,  1.,  1.,  1.,  1.,\n        4.,  1.,  1.,  1.,  1.,  3.,  1.,  1.,  1.,  2.,  1.,  1.,  2.,\n        1.,  1.,  4.,  1.,  1.,  1.,  1.,  1.,  1.,  1.,  1.,  2.,  2.,\n        1.,  1.,  1.,  1.,  1.,  1.,  1.,  1.,  1.,  1.,  1.])"
      }
     ],
     "prompt_number": 17
    },
    {
     "cell_type": "code",
     "collapsed": false,
     "input": "import pandas as pd\n",
     "language": "python",
     "metadata": {},
     "outputs": [],
     "prompt_number": 18
    },
    {
     "cell_type": "code",
     "collapsed": false,
     "input": "lookup_dict = dict(zip(ngram_mat.states_matrix._eval(ss)._as_1d_array,states_sdf.summary._data))\nlookup_dict\n",
     "language": "python",
     "metadata": {},
     "outputs": [
      {
       "metadata": {},
       "output_type": "pyout",
       "prompt_number": 20,
       "text": "{u'\\u4e00': 2.0,\n u'\\u4e00\\u5929': 2.0,\n u'\\u4e00\\u5929\\u4e00': 1.0,\n u'\\u4e00\\u5929\\u4e00\\u5929': 1.0,\n u'\\u4e00\\u5929\\u904e': 1.0,\n u'\\u4eca': 3.0,\n u'\\u4eca\\u5929': 3.0,\n u'\\u4eca\\u5929\\u5929': 2.0,\n u'\\u4eca\\u5929\\u5929\\u6c23': 2.0,\n u'\\u4eca\\u5929\\u5f88': 1.0,\n u'\\u4eca\\u5929\\u5f88\\u8870': 1.0,\n u'\\u5237': 1.0,\n u'\\u5237\\u7259': 1.0,\n u'\\u5237\\u7259\\u6d17': 1.0,\n u'\\u5237\\u7259\\u6d17\\u81c9': 1.0,\n u'\\u5929': 9.0,\n u'\\u5929\\u4e00': 1.0,\n u'\\u5929\\u4e00\\u5929': 1.0,\n u'\\u5929\\u4e00\\u5929\\u904e': 1.0,\n u'\\u5929\\u5237': 1.0,\n u'\\u5929\\u5237\\u7259': 1.0,\n u'\\u5929\\u5237\\u7259\\u6d17': 1.0,\n u'\\u5929\\u5929': 3.0,\n u'\\u5929\\u5929\\u5237': 1.0,\n u'\\u5929\\u5929\\u5237\\u7259': 1.0,\n u'\\u5929\\u5929\\u6c23': 2.0,\n u'\\u5929\\u5929\\u6c23\\u5f88': 2.0,\n u'\\u5929\\u5f88': 1.0,\n u'\\u5929\\u5f88\\u8870': 1.0,\n u'\\u5929\\u6c23': 2.0,\n u'\\u5929\\u6c23\\u5f88': 2.0,\n u'\\u5929\\u6c23\\u5f88\\u597d': 1.0,\n u'\\u5929\\u6c23\\u5f88\\u721b': 1.0,\n u'\\u5929\\u904e': 1.0,\n u'\\u597d': 1.0,\n u'\\u5b50': 1.0,\n u'\\u5b50\\u4e00': 1.0,\n u'\\u5b50\\u4e00\\u5929': 1.0,\n u'\\u5b50\\u4e00\\u5929\\u4e00': 1.0,\n u'\\u5b83': 4.0,\n u'\\u5b83\\u6068': 1.0,\n u'\\u5b83\\u6068\\u6211': 1.0,\n u'\\u5b83\\u611b': 1.0,\n u'\\u5b83\\u611b\\u6211': 1.0,\n u'\\u5f88': 3.0,\n u'\\u5f88\\u597d': 1.0,\n u'\\u5f88\\u721b': 1.0,\n u'\\u5f88\\u8870': 1.0,\n u'\\u6068': 2.0,\n u'\\u6068\\u5b83': 1.0,\n u'\\u6068\\u6211': 1.0,\n u'\\u611b': 2.0,\n u'\\u611b\\u5b83': 1.0,\n u'\\u611b\\u6211': 1.0,\n u'\\u6211': 4.0,\n u'\\u6211\\u6068': 1.0,\n u'\\u6211\\u6068\\u5b83': 1.0,\n u'\\u6211\\u611b': 1.0,\n u'\\u6211\\u611b\\u5b83': 1.0,\n u'\\u65e5': 1.0,\n u'\\u65e5\\u5b50': 1.0,\n u'\\u65e5\\u5b50\\u4e00': 1.0,\n u'\\u65e5\\u5b50\\u4e00\\u5929': 1.0,\n u'\\u6c23': 2.0,\n u'\\u6c23\\u5f88': 2.0,\n u'\\u6c23\\u5f88\\u597d': 1.0,\n u'\\u6c23\\u5f88\\u721b': 1.0,\n u'\\u6d17': 1.0,\n u'\\u6d17\\u81c9': 1.0,\n u'\\u721b': 1.0,\n u'\\u7259': 1.0,\n u'\\u7259\\u6d17': 1.0,\n u'\\u7259\\u6d17\\u81c9': 1.0,\n u'\\u81c9': 1.0,\n u'\\u8870': 1.0,\n u'\\u904e': 1.0}"
      }
     ],
     "prompt_number": 20
    },
    {
     "cell_type": "code",
     "collapsed": false,
     "input": "lookup_dict_2 = pd.Series(lookup_dict)\n",
     "language": "python",
     "metadata": {},
     "outputs": [],
     "prompt_number": 50
    },
    {
     "cell_type": "code",
     "collapsed": false,
     "input": "lookup_dict_2",
     "language": "python",
     "metadata": {},
     "outputs": [
      {
       "metadata": {},
       "output_type": "pyout",
       "prompt_number": 51,
       "text": "\u4e00       2\n\u4e00\u5929      2\n\u4e00\u5929\u4e00     1\n\u4e00\u5929\u4e00\u5929    1\n\u4e00\u5929\u904e     1\n\u4eca       3\n\u4eca\u5929      3\n\u4eca\u5929\u5929     2\n\u4eca\u5929\u5929\u6c23    2\n\u4eca\u5929\u5f88     1\n\u4eca\u5929\u5f88\u8870    1\n\u5237       1\n\u5237\u7259      1\n\u5237\u7259\u6d17     1\n\u5237\u7259\u6d17\u81c9    1\n...\n\u65e5\u5b50\u4e00     1\n\u65e5\u5b50\u4e00\u5929    1\n\u6c23       2\n\u6c23\u5f88      2\n\u6c23\u5f88\u597d     1\n\u6c23\u5f88\u721b     1\n\u6d17       1\n\u6d17\u81c9      1\n\u721b       1\n\u7259       1\n\u7259\u6d17      1\n\u7259\u6d17\u81c9     1\n\u81c9       1\n\u8870       1\n\u904e       1\nLength: 76, dtype: float64"
      }
     ],
     "prompt_number": 51
    },
    {
     "cell_type": "code",
     "collapsed": false,
     "input": "lookup_dict_2.index",
     "language": "python",
     "metadata": {},
     "outputs": [
      {
       "metadata": {},
       "output_type": "pyout",
       "prompt_number": 52,
       "text": "Index([u'\u4e00', u'\u4e00\u5929', u'\u4e00\u5929\u4e00', u'\u4e00\u5929\u4e00\u5929', u'\u4e00\u5929\u904e', u'\u4eca', u'\u4eca\u5929', u'\u4eca\u5929\u5929', u'\u4eca\u5929\u5929\u6c23', u'\u4eca\u5929\u5f88', u'\u4eca\u5929\u5f88\u8870', u'\u5237', u'\u5237\u7259', u'\u5237\u7259\u6d17', u'\u5237\u7259\u6d17\u81c9', u'\u5929', u'\u5929\u4e00', u'\u5929\u4e00\u5929', u'\u5929\u4e00\u5929\u904e', u'\u5929\u5237', u'\u5929\u5237\u7259', u'\u5929\u5237\u7259\u6d17', u'\u5929\u5929', u'\u5929\u5929\u5237', u'\u5929\u5929\u5237\u7259', u'\u5929\u5929\u6c23', u'\u5929\u5929\u6c23\u5f88', u'\u5929\u5f88', u'\u5929\u5f88\u8870', u'\u5929\u6c23', u'\u5929\u6c23\u5f88', u'\u5929\u6c23\u5f88\u597d', u'\u5929\u6c23\u5f88\u721b', u'\u5929\u904e', u'\u597d', u'\u5b50', u'\u5b50\u4e00', u'\u5b50\u4e00\u5929', u'\u5b50\u4e00\u5929\u4e00', u'\u5b83', u'\u5b83\u6068', u'\u5b83\u6068\u6211', u'\u5b83\u611b', u'\u5b83\u611b\u6211', u'\u5f88', u'\u5f88\u597d', u'\u5f88\u721b', u'\u5f88\u8870', u'\u6068', u'\u6068\u5b83', u'\u6068\u6211', u'\u611b', u'\u611b\u5b83', u'\u611b\u6211', u'\u6211', u'\u6211\u6068', u'\u6211\u6068\u5b83', u'\u6211\u611b', u'\u6211\u611b\u5b83', u'\u65e5', u'\u65e5\u5b50', u'\u65e5\u5b50\u4e00', u'\u65e5\u5b50\u4e00\u5929', u'\u6c23', u'\u6c23\u5f88', u'\u6c23\u5f88\u597d', u'\u6c23\u5f88\u721b', u'\u6d17', u'\u6d17\u81c9', u'\u721b', u'\u7259', u'\u7259\u6d17', u'\u7259\u6d17\u81c9', u'\u81c9', u'\u8870', u'\u904e'], dtype='object')"
      }
     ],
     "prompt_number": 52
    },
    {
     "cell_type": "code",
     "collapsed": false,
     "input": "lookup_dict_2.values ",
     "language": "python",
     "metadata": {},
     "outputs": [
      {
       "metadata": {},
       "output_type": "pyout",
       "prompt_number": 53,
       "text": "array([ 2.,  2.,  1.,  1.,  1.,  3.,  3.,  2.,  2.,  1.,  1.,  1.,  1.,\n        1.,  1.,  9.,  1.,  1.,  1.,  1.,  1.,  1.,  3.,  1.,  1.,  2.,\n        2.,  1.,  1.,  2.,  2.,  1.,  1.,  1.,  1.,  1.,  1.,  1.,  1.,\n        4.,  1.,  1.,  1.,  1.,  3.,  1.,  1.,  1.,  2.,  1.,  1.,  2.,\n        1.,  1.,  4.,  1.,  1.,  1.,  1.,  1.,  1.,  1.,  1.,  2.,  2.,\n        1.,  1.,  1.,  1.,  1.,  1.,  1.,  1.,  1.,  1.,  1.])"
      }
     ],
     "prompt_number": 53
    },
    {
     "cell_type": "code",
     "collapsed": false,
     "input": "lookup_dict_2 /= sum(lookup_dict_2.values)",
     "language": "python",
     "metadata": {},
     "outputs": [],
     "prompt_number": 58
    },
    {
     "cell_type": "code",
     "collapsed": false,
     "input": "lookup_dict_2 ",
     "language": "python",
     "metadata": {},
     "outputs": [
      {
       "metadata": {},
       "output_type": "pyout",
       "prompt_number": 59,
       "text": "\u4e00       0.018182\n\u4e00\u5929      0.018182\n\u4e00\u5929\u4e00     0.009091\n\u4e00\u5929\u4e00\u5929    0.009091\n\u4e00\u5929\u904e     0.009091\n\u4eca       0.027273\n\u4eca\u5929      0.027273\n\u4eca\u5929\u5929     0.018182\n\u4eca\u5929\u5929\u6c23    0.018182\n\u4eca\u5929\u5f88     0.009091\n\u4eca\u5929\u5f88\u8870    0.009091\n\u5237       0.009091\n\u5237\u7259      0.009091\n\u5237\u7259\u6d17     0.009091\n\u5237\u7259\u6d17\u81c9    0.009091\n...\n\u65e5\u5b50\u4e00     0.009091\n\u65e5\u5b50\u4e00\u5929    0.009091\n\u6c23       0.018182\n\u6c23\u5f88      0.018182\n\u6c23\u5f88\u597d     0.009091\n\u6c23\u5f88\u721b     0.009091\n\u6d17       0.009091\n\u6d17\u81c9      0.009091\n\u721b       0.009091\n\u7259       0.009091\n\u7259\u6d17      0.009091\n\u7259\u6d17\u81c9     0.009091\n\u81c9       0.009091\n\u8870       0.009091\n\u904e       0.009091\nLength: 76, dtype: float64"
      }
     ],
     "prompt_number": 59
    },
    {
     "cell_type": "code",
     "collapsed": false,
     "input": "lookup_dict_2.index",
     "language": "python",
     "metadata": {},
     "outputs": [
      {
       "metadata": {},
       "output_type": "pyout",
       "prompt_number": 61,
       "text": "Index([u'\u4e00', u'\u4e00\u5929', u'\u4e00\u5929\u4e00', u'\u4e00\u5929\u4e00\u5929', u'\u4e00\u5929\u904e', u'\u4eca', u'\u4eca\u5929', u'\u4eca\u5929\u5929', u'\u4eca\u5929\u5929\u6c23', u'\u4eca\u5929\u5f88', u'\u4eca\u5929\u5f88\u8870', u'\u5237', u'\u5237\u7259', u'\u5237\u7259\u6d17', u'\u5237\u7259\u6d17\u81c9', u'\u5929', u'\u5929\u4e00', u'\u5929\u4e00\u5929', u'\u5929\u4e00\u5929\u904e', u'\u5929\u5237', u'\u5929\u5237\u7259', u'\u5929\u5237\u7259\u6d17', u'\u5929\u5929', u'\u5929\u5929\u5237', u'\u5929\u5929\u5237\u7259', u'\u5929\u5929\u6c23', u'\u5929\u5929\u6c23\u5f88', u'\u5929\u5f88', u'\u5929\u5f88\u8870', u'\u5929\u6c23', u'\u5929\u6c23\u5f88', u'\u5929\u6c23\u5f88\u597d', u'\u5929\u6c23\u5f88\u721b', u'\u5929\u904e', u'\u597d', u'\u5b50', u'\u5b50\u4e00', u'\u5b50\u4e00\u5929', u'\u5b50\u4e00\u5929\u4e00', u'\u5b83', u'\u5b83\u6068', u'\u5b83\u6068\u6211', u'\u5b83\u611b', u'\u5b83\u611b\u6211', u'\u5f88', u'\u5f88\u597d', u'\u5f88\u721b', u'\u5f88\u8870', u'\u6068', u'\u6068\u5b83', u'\u6068\u6211', u'\u611b', u'\u611b\u5b83', u'\u611b\u6211', u'\u6211', u'\u6211\u6068', u'\u6211\u6068\u5b83', u'\u6211\u611b', u'\u6211\u611b\u5b83', u'\u65e5', u'\u65e5\u5b50', u'\u65e5\u5b50\u4e00', u'\u65e5\u5b50\u4e00\u5929', u'\u6c23', u'\u6c23\u5f88', u'\u6c23\u5f88\u597d', u'\u6c23\u5f88\u721b', u'\u6d17', u'\u6d17\u81c9', u'\u721b', u'\u7259', u'\u7259\u6d17', u'\u7259\u6d17\u81c9', u'\u81c9', u'\u8870', u'\u904e'], dtype='object')"
      }
     ],
     "prompt_number": 61
    },
    {
     "cell_type": "code",
     "collapsed": false,
     "input": "def split(x):\n    return[[x[:i+1], x[i+1:]] for i in range(len(x)-1)]",
     "language": "python",
     "metadata": {},
     "outputs": [],
     "prompt_number": 106
    },
    {
     "cell_type": "code",
     "collapsed": false,
     "input": "for x in split(u'\u4eca\u5929\u5929\u6c23'):\n    print ' '.join(x)",
     "language": "python",
     "metadata": {},
     "outputs": [
      {
       "output_type": "stream",
       "stream": "stdout",
       "text": "\u4eca \u5929\u5929\u6c23\n\u4eca\u5929 \u5929\u6c23\n\u4eca\u5929\u5929 \u6c23\n"
      }
     ],
     "prompt_number": 113
    },
    {
     "cell_type": "code",
     "collapsed": false,
     "input": "def mi(word):\n    return min([lookup_dict_2[word]/(lookup_dict_2[w[0]]*lookup_dict_2[w[1]]) for w in split(word)] )",
     "language": "python",
     "metadata": {},
     "outputs": [],
     "prompt_number": 133
    },
    {
     "cell_type": "code",
     "collapsed": false,
     "input": "mi(u'\u4eca\u5929\u5929\u6c23') ",
     "language": "python",
     "metadata": {},
     "outputs": [
      {
       "metadata": {},
       "output_type": "pyout",
       "prompt_number": 138,
       "text": "36.666666666666671"
      }
     ],
     "prompt_number": 138
    },
    {
     "cell_type": "code",
     "collapsed": false,
     "input": "inx = [len(x) > 2 for x in lookup_dict_2.index]\nthreshold = 30\ncoh = [word for word in  lookup_dict_2.index[inx] if mi(word) > threshold]",
     "language": "python",
     "metadata": {},
     "outputs": [],
     "prompt_number": 201
    },
    {
     "cell_type": "code",
     "collapsed": false,
     "input": "print '/'.join(coh)",
     "language": "python",
     "metadata": {},
     "outputs": [
      {
       "output_type": "stream",
       "stream": "stdout",
       "text": "\u4e00\u5929\u904e/\u4eca\u5929\u5929\u6c23/\u4eca\u5929\u5f88\u8870/\u5237\u7259\u6d17/\u5237\u7259\u6d17\u81c9/\u5b50\u4e00\u5929\u4e00/\u65e5\u5b50\u4e00/\u6c23\u5f88\u597d/\u6c23\u5f88\u721b/\u7259\u6d17\u81c9\n"
      }
     ],
     "prompt_number": 202
    },
    {
     "cell_type": "code",
     "collapsed": false,
     "input": "def ind(w):\n    t1 = [x for x in lookup_dict_2.index if len(x) == len(w)+1 and x.startswith(w)]\n    w1 = sum([-lookup_dict_2[x]*math.log(lookup_dict_2[x]) for x in t1])\n    t2 = [x for x in lookup_dict_2.index if len(x) == len(w)+1 and x.endswith(w)]\n    w2 = sum([-lookup_dict_2[x]*math.log(lookup_dict_2[x]) for x in t2])\n    #print [w, t1, w1, t2, w2]\n    return min(w1, w2)",
     "language": "python",
     "metadata": {},
     "outputs": [],
     "prompt_number": 208
    },
    {
     "cell_type": "code",
     "collapsed": false,
     "input": "",
     "language": "python",
     "metadata": {},
     "outputs": []
    },
    {
     "cell_type": "code",
     "collapsed": false,
     "input": "print '/ '.join([x for x in coh if ind(x) > 0.04])",
     "language": "python",
     "metadata": {},
     "outputs": [
      {
       "output_type": "stream",
       "stream": "stdout",
       "text": "\u5237\u7259\u6d17\n"
      }
     ],
     "prompt_number": 210
    },
    {
     "cell_type": "code",
     "collapsed": false,
     "input": "for word in coh if ind(word) ",
     "language": "python",
     "metadata": {},
     "outputs": [],
     "prompt_number": 178
    },
    {
     "cell_type": "code",
     "collapsed": false,
     "input": "t.endswith",
     "language": "python",
     "metadata": {},
     "outputs": []
    },
    {
     "cell_type": "code",
     "collapsed": false,
     "input": "t = [x for x in lookup_dict_2.index if x.startswith(u'\u4eca\u5929')]",
     "language": "python",
     "metadata": {},
     "outputs": [],
     "prompt_number": 158
    },
    {
     "cell_type": "code",
     "collapsed": false,
     "input": "t",
     "language": "python",
     "metadata": {},
     "outputs": [
      {
       "metadata": {},
       "output_type": "pyout",
       "prompt_number": 173,
       "text": "[u'\\u4eca\\u5929',\n u'\\u4eca\\u5929\\u5929',\n u'\\u4eca\\u5929\\u5929\\u6c23',\n u'\\u4eca\\u5929\\u5f88',\n u'\\u4eca\\u5929\\u5f88\\u8870']"
      }
     ],
     "prompt_number": 173
    },
    {
     "cell_type": "code",
     "collapsed": false,
     "input": "import math",
     "language": "python",
     "metadata": {},
     "outputs": [],
     "prompt_number": 163
    },
    {
     "cell_type": "code",
     "collapsed": false,
     "input": "t2 = sum([-lookup_dict_2[x]*math.log(lookup_dict_2[x]) for x in t])",
     "language": "python",
     "metadata": {},
     "outputs": [],
     "prompt_number": 175
    },
    {
     "cell_type": "code",
     "collapsed": false,
     "input": "t2",
     "language": "python",
     "metadata": {},
     "outputs": [
      {
       "metadata": {},
       "output_type": "pyout",
       "prompt_number": 176,
       "text": "0.32941725185352388"
      }
     ],
     "prompt_number": 176
    },
    {
     "cell_type": "code",
     "collapsed": false,
     "input": "mat",
     "language": "python",
     "metadata": {},
     "outputs": []
    }
   ],
   "metadata": {}
  }
 ]
}